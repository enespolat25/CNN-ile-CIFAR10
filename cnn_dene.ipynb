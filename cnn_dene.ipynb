{
  "nbformat": 4,
  "nbformat_minor": 0,
  "metadata": {
    "colab": {
      "name": "cnn_dene.ipynb",
      "version": "0.3.2",
      "provenance": [],
      "collapsed_sections": []
    },
    "kernelspec": {
      "name": "python3",
      "display_name": "Python 3"
    },
    "accelerator": "GPU"
  },
  "cells": [
    {
      "cell_type": "markdown",
      "metadata": {
        "id": "NyYqwVKSVfXC",
        "colab_type": "text"
      },
      "source": [
        "# Tensorflow 2.0 Kullanarak CIFAR10 Veri Setinde CNN ile Sınıflandırma Yapma"
      ]
    },
    {
      "cell_type": "code",
      "metadata": {
        "id": "wKURRaoj2Tw_",
        "colab_type": "code",
        "colab": {
          "base_uri": "https://localhost:8080/",
          "height": 646
        },
        "outputId": "2f07b843-281d-4d7b-d1d4-5d91b2362dc7"
      },
      "source": [
        "!pip install tensorflow-gpu==2.0.0.alpha0"
      ],
      "execution_count": 2,
      "outputs": [
        {
          "output_type": "stream",
          "text": [
            "Collecting tensorflow-gpu==2.0.0.alpha0\n",
            "\u001b[?25l  Downloading https://files.pythonhosted.org/packages/1a/66/32cffad095253219d53f6b6c2a436637bbe45ac4e7be0244557210dc3918/tensorflow_gpu-2.0.0a0-cp36-cp36m-manylinux1_x86_64.whl (332.1MB)\n",
            "\u001b[K     |████████████████████████████████| 332.1MB 69kB/s \n",
            "\u001b[?25hCollecting tb-nightly<1.14.0a20190302,>=1.14.0a20190301 (from tensorflow-gpu==2.0.0.alpha0)\n",
            "\u001b[?25l  Downloading https://files.pythonhosted.org/packages/a9/51/aa1d756644bf4624c03844115e4ac4058eff77acd786b26315f051a4b195/tb_nightly-1.14.0a20190301-py3-none-any.whl (3.0MB)\n",
            "\u001b[K     |████████████████████████████████| 3.0MB 20.8MB/s \n",
            "\u001b[?25hCollecting tf-estimator-nightly<1.14.0.dev2019030116,>=1.14.0.dev2019030115 (from tensorflow-gpu==2.0.0.alpha0)\n",
            "\u001b[?25l  Downloading https://files.pythonhosted.org/packages/13/82/f16063b4eed210dc2ab057930ac1da4fbe1e91b7b051a6c8370b401e6ae7/tf_estimator_nightly-1.14.0.dev2019030115-py2.py3-none-any.whl (411kB)\n",
            "\u001b[K     |████████████████████████████████| 419kB 41.4MB/s \n",
            "\u001b[?25hRequirement already satisfied: google-pasta>=0.1.2 in /usr/local/lib/python3.6/dist-packages (from tensorflow-gpu==2.0.0.alpha0) (0.1.7)\n",
            "Requirement already satisfied: gast>=0.2.0 in /usr/local/lib/python3.6/dist-packages (from tensorflow-gpu==2.0.0.alpha0) (0.2.2)\n",
            "Requirement already satisfied: six>=1.10.0 in /usr/local/lib/python3.6/dist-packages (from tensorflow-gpu==2.0.0.alpha0) (1.12.0)\n",
            "Requirement already satisfied: grpcio>=1.8.6 in /usr/local/lib/python3.6/dist-packages (from tensorflow-gpu==2.0.0.alpha0) (1.15.0)\n",
            "Requirement already satisfied: astor>=0.6.0 in /usr/local/lib/python3.6/dist-packages (from tensorflow-gpu==2.0.0.alpha0) (0.8.0)\n",
            "Requirement already satisfied: wheel>=0.26 in /usr/local/lib/python3.6/dist-packages (from tensorflow-gpu==2.0.0.alpha0) (0.33.4)\n",
            "Requirement already satisfied: termcolor>=1.1.0 in /usr/local/lib/python3.6/dist-packages (from tensorflow-gpu==2.0.0.alpha0) (1.1.0)\n",
            "Requirement already satisfied: keras-preprocessing>=1.0.5 in /usr/local/lib/python3.6/dist-packages (from tensorflow-gpu==2.0.0.alpha0) (1.1.0)\n",
            "Requirement already satisfied: keras-applications>=1.0.6 in /usr/local/lib/python3.6/dist-packages (from tensorflow-gpu==2.0.0.alpha0) (1.0.8)\n",
            "Requirement already satisfied: protobuf>=3.6.1 in /usr/local/lib/python3.6/dist-packages (from tensorflow-gpu==2.0.0.alpha0) (3.7.1)\n",
            "Requirement already satisfied: numpy<2.0,>=1.14.5 in /usr/local/lib/python3.6/dist-packages (from tensorflow-gpu==2.0.0.alpha0) (1.16.4)\n",
            "Requirement already satisfied: absl-py>=0.7.0 in /usr/local/lib/python3.6/dist-packages (from tensorflow-gpu==2.0.0.alpha0) (0.7.1)\n",
            "Requirement already satisfied: werkzeug>=0.11.15 in /usr/local/lib/python3.6/dist-packages (from tb-nightly<1.14.0a20190302,>=1.14.0a20190301->tensorflow-gpu==2.0.0.alpha0) (0.15.4)\n",
            "Requirement already satisfied: markdown>=2.6.8 in /usr/local/lib/python3.6/dist-packages (from tb-nightly<1.14.0a20190302,>=1.14.0a20190301->tensorflow-gpu==2.0.0.alpha0) (3.1.1)\n",
            "Requirement already satisfied: h5py in /usr/local/lib/python3.6/dist-packages (from keras-applications>=1.0.6->tensorflow-gpu==2.0.0.alpha0) (2.8.0)\n",
            "Requirement already satisfied: setuptools in /usr/local/lib/python3.6/dist-packages (from protobuf>=3.6.1->tensorflow-gpu==2.0.0.alpha0) (41.0.1)\n",
            "Installing collected packages: tb-nightly, tf-estimator-nightly, tensorflow-gpu\n",
            "Successfully installed tb-nightly-1.14.0a20190301 tensorflow-gpu-2.0.0a0 tf-estimator-nightly-1.14.0.dev2019030115\n"
          ],
          "name": "stdout"
        },
        {
          "output_type": "display_data",
          "data": {
            "application/vnd.colab-display-data+json": {
              "pip_warning": {
                "packages": [
                  "tensorboard",
                  "tensorflow",
                  "tensorflow_estimator"
                ]
              }
            }
          },
          "metadata": {
            "tags": []
          }
        }
      ]
    },
    {
      "cell_type": "markdown",
      "metadata": {
        "id": "q3E7MaD7WDhT",
        "colab_type": "text"
      },
      "source": [
        "Gerekli kütüphaneler ve veri setinin indirilmesi"
      ]
    },
    {
      "cell_type": "code",
      "metadata": {
        "id": "TvS5BF1P1oW9",
        "colab_type": "code",
        "colab": {
          "base_uri": "https://localhost:8080/",
          "height": 35
        },
        "outputId": "83f2d324-0d00-4f50-e329-9e78760cc8b6"
      },
      "source": [
        "import tensorflow as tf\n",
        "import matplotlib.pyplot as plt\n",
        "\n",
        "from tensorflow.keras.datasets import cifar10\n",
        "\n",
        "%matplotlib inline\n",
        "tf.__version__"
      ],
      "execution_count": 1,
      "outputs": [
        {
          "output_type": "execute_result",
          "data": {
            "text/plain": [
              "'2.0.0-alpha0'"
            ]
          },
          "metadata": {
            "tags": []
          },
          "execution_count": 1
        }
      ]
    },
    {
      "cell_type": "markdown",
      "metadata": {
        "id": "TkLQnHxWWIXi",
        "colab_type": "text"
      },
      "source": [
        "10 farklı sınıfa ait veriler bulunmaktadır"
      ]
    },
    {
      "cell_type": "code",
      "metadata": {
        "id": "J4nypNhL2J08",
        "colab_type": "code",
        "colab": {}
      },
      "source": [
        "#Setting class names for the dataset\n",
        "class_names = ['airplane', 'automobile', 'bird', 'cat', 'deer', 'dog', 'frog', 'horse', 'ship', 'truck']"
      ],
      "execution_count": 0,
      "outputs": []
    },
    {
      "cell_type": "markdown",
      "metadata": {
        "id": "qTJUJM-QWMoR",
        "colab_type": "text"
      },
      "source": [
        "Verinin train ve test olarak alınması"
      ]
    },
    {
      "cell_type": "code",
      "metadata": {
        "id": "e7p3XKS77VTQ",
        "colab_type": "code",
        "colab": {
          "base_uri": "https://localhost:8080/",
          "height": 54
        },
        "outputId": "64844736-be99-41a3-aed0-778c34061e96"
      },
      "source": [
        "#Loading the dataset\n",
        "(X_train, y_train), (X_test, y_test) = cifar10.load_data()"
      ],
      "execution_count": 3,
      "outputs": [
        {
          "output_type": "stream",
          "text": [
            "Downloading data from https://www.cs.toronto.edu/~kriz/cifar-10-python.tar.gz\n",
            "170500096/170498071 [==============================] - 2s 0us/step\n"
          ],
          "name": "stdout"
        }
      ]
    },
    {
      "cell_type": "markdown",
      "metadata": {
        "id": "NBJeEWznWRRI",
        "colab_type": "text"
      },
      "source": [
        "Örnek bir resim"
      ]
    },
    {
      "cell_type": "code",
      "metadata": {
        "id": "ADM6RDwh8wxZ",
        "colab_type": "code",
        "colab": {
          "base_uri": "https://localhost:8080/",
          "height": 287
        },
        "outputId": "decc4d92-30ea-4428-c12b-b33ce4c5ff2d"
      },
      "source": [
        "plt.imshow(X_test[40])"
      ],
      "execution_count": 53,
      "outputs": [
        {
          "output_type": "execute_result",
          "data": {
            "text/plain": [
              "<matplotlib.image.AxesImage at 0x7f8c17a3beb8>"
            ]
          },
          "metadata": {
            "tags": []
          },
          "execution_count": 53
        },
        {
          "output_type": "display_data",
          "data": {
            "image/png": "[encoded data removed]",
            "text/plain": [
              "<Figure size 432x288 with 1 Axes>"
            ]
          },
          "metadata": {
            "tags": []
          }
        }
      ]
    },
    {
      "cell_type": "markdown",
      "metadata": {
        "id": "eKU3UbsIWVQJ",
        "colab_type": "text"
      },
      "source": [
        "Verinin normalize edilmesi"
      ]
    },
    {
      "cell_type": "code",
      "metadata": {
        "id": "kIqSf6il7n8-",
        "colab_type": "code",
        "colab": {}
      },
      "source": [
        "X_train = X_train / 255.0"
      ],
      "execution_count": 0,
      "outputs": []
    },
    {
      "cell_type": "code",
      "metadata": {
        "id": "_KPbOzrh8sf6",
        "colab_type": "code",
        "colab": {
          "base_uri": "https://localhost:8080/",
          "height": 35
        },
        "outputId": "3d0c407a-23bb-46cf-b32e-82725c25a9f6"
      },
      "source": [
        "X_train.shape"
      ],
      "execution_count": 5,
      "outputs": [
        {
          "output_type": "execute_result",
          "data": {
            "text/plain": [
              "(50000, 32, 32, 3)"
            ]
          },
          "metadata": {
            "tags": []
          },
          "execution_count": 5
        }
      ]
    },
    {
      "cell_type": "code",
      "metadata": {
        "id": "5dgy76U2Wc51",
        "colab_type": "code",
        "colab": {}
      },
      "source": [
        "X_test=X_test/255.0"
      ],
      "execution_count": 0,
      "outputs": []
    },
    {
      "cell_type": "code",
      "metadata": {
        "id": "VVpW8NsaWk1s",
        "colab_type": "code",
        "colab": {
          "base_uri": "https://localhost:8080/",
          "height": 35
        },
        "outputId": "9bd5d251-0aaf-461b-a479-45d35d0f9f31"
      },
      "source": [
        "X_test.shape"
      ],
      "execution_count": 39,
      "outputs": [
        {
          "output_type": "execute_result",
          "data": {
            "text/plain": [
              "(10000, 32, 32, 3)"
            ]
          },
          "metadata": {
            "tags": []
          },
          "execution_count": 39
        }
      ]
    },
    {
      "cell_type": "markdown",
      "metadata": {
        "id": "lfUzOjA182fB",
        "colab_type": "text"
      },
      "source": [
        "# Model 1"
      ]
    },
    {
      "cell_type": "code",
      "metadata": {
        "id": "TA4DUPPe8u9u",
        "colab_type": "code",
        "colab": {}
      },
      "source": [
        "model = tf.keras.models.Sequential()\n",
        "model.add(tf.keras.layers.Conv2D(filters=32, kernel_size=3, padding=\"same\", activation=\"relu\", input_shape=[32, 32, 3]))\n",
        "model.add(tf.keras.layers.Conv2D(filters=32, kernel_size=3, padding=\"same\", activation=\"relu\"))\n",
        "model.add(tf.keras.layers.MaxPool2D(pool_size=2, strides=2, padding='valid'))\n",
        "model.add(tf.keras.layers.Conv2D(filters=64, kernel_size=3, padding=\"same\", activation=\"relu\"))\n",
        "model.add(tf.keras.layers.Conv2D(filters=64, kernel_size=3, padding=\"same\", activation=\"relu\"))\n",
        "model.add(tf.keras.layers.MaxPool2D(pool_size=2, strides=2, padding='valid'))\n",
        "\n",
        "model.add(tf.keras.layers.Flatten())\n",
        "\n",
        "model.add(tf.keras.layers.Dense(units=128, activation='relu'))\n",
        "\n",
        "model.add(tf.keras.layers.Dense(units=10, activation='softmax'))"
      ],
      "execution_count": 0,
      "outputs": []
    },
    {
      "cell_type": "code",
      "metadata": {
        "id": "Nl1XnBBR9T1D",
        "colab_type": "code",
        "colab": {
          "base_uri": "https://localhost:8080/",
          "height": 490
        },
        "outputId": "8a9c1a72-a08b-43c3-e252-390405cd2359"
      },
      "source": [
        "model.summary()"
      ],
      "execution_count": 8,
      "outputs": [
        {
          "output_type": "stream",
          "text": [
            "Model: \"sequential\"\n",
            "_________________________________________________________________\n",
            "Layer (type)                 Output Shape              Param #   \n",
            "=================================================================\n",
            "conv2d (Conv2D)              (None, 32, 32, 32)        896       \n",
            "_________________________________________________________________\n",
            "conv2d_1 (Conv2D)            (None, 32, 32, 32)        9248      \n",
            "_________________________________________________________________\n",
            "max_pooling2d (MaxPooling2D) (None, 16, 16, 32)        0         \n",
            "_________________________________________________________________\n",
            "conv2d_2 (Conv2D)            (None, 16, 16, 64)        18496     \n",
            "_________________________________________________________________\n",
            "conv2d_3 (Conv2D)            (None, 16, 16, 64)        36928     \n",
            "_________________________________________________________________\n",
            "max_pooling2d_1 (MaxPooling2 (None, 8, 8, 64)          0         \n",
            "_________________________________________________________________\n",
            "flatten (Flatten)            (None, 4096)              0         \n",
            "_________________________________________________________________\n",
            "dense (Dense)                (None, 128)               524416    \n",
            "_________________________________________________________________\n",
            "dense_1 (Dense)              (None, 10)                1290      \n",
            "=================================================================\n",
            "Total params: 591,274\n",
            "Trainable params: 591,274\n",
            "Non-trainable params: 0\n",
            "_________________________________________________________________\n"
          ],
          "name": "stdout"
        }
      ]
    },
    {
      "cell_type": "code",
      "metadata": {
        "id": "nUQLrMf_9U0t",
        "colab_type": "code",
        "colab": {}
      },
      "source": [
        "model.compile(loss=\"sparse_categorical_crossentropy\",\n",
        "              optimizer=\"Adam\", metrics=[\"sparse_categorical_accuracy\"])"
      ],
      "execution_count": 0,
      "outputs": []
    },
    {
      "cell_type": "code",
      "metadata": {
        "id": "ioFMQv8v9bw1",
        "colab_type": "code",
        "colab": {
          "base_uri": "https://localhost:8080/",
          "height": 217
        },
        "outputId": "b4efd742-8f7a-432c-97cc-c807be435913"
      },
      "source": [
        "model.fit(X_train, y_train, epochs=5)"
      ],
      "execution_count": 10,
      "outputs": [
        {
          "output_type": "stream",
          "text": [
            "Epoch 1/5\n",
            "50000/50000 [==============================] - 23s 467us/sample - loss: 1.3841 - sparse_categorical_accuracy: 0.5010\n",
            "Epoch 2/5\n",
            "50000/50000 [==============================] - 19s 381us/sample - loss: 0.9345 - sparse_categorical_accuracy: 0.6705\n",
            "Epoch 3/5\n",
            "50000/50000 [==============================] - 19s 376us/sample - loss: 0.7538 - sparse_categorical_accuracy: 0.7359\n",
            "Epoch 4/5\n",
            "50000/50000 [==============================] - 18s 370us/sample - loss: 0.6213 - sparse_categorical_accuracy: 0.7811\n",
            "Epoch 5/5\n",
            "50000/50000 [==============================] - 19s 374us/sample - loss: 0.5196 - sparse_categorical_accuracy: 0.8153\n"
          ],
          "name": "stdout"
        },
        {
          "output_type": "execute_result",
          "data": {
            "text/plain": [
              "<tensorflow.python.keras.callbacks.History at 0x7f8f158e1e48>"
            ]
          },
          "metadata": {
            "tags": []
          },
          "execution_count": 10
        }
      ]
    },
    {
      "cell_type": "code",
      "metadata": {
        "id": "KZtV8oYd9d13",
        "colab_type": "code",
        "colab": {
          "base_uri": "https://localhost:8080/",
          "height": 35
        },
        "outputId": "fff07c3a-1c89-461b-aba5-6c50f890ca20"
      },
      "source": [
        "test_loss, test_accuracy = model.evaluate(X_test, y_test)"
      ],
      "execution_count": 40,
      "outputs": [
        {
          "output_type": "stream",
          "text": [
            "10000/10000 [==============================] - 2s 169us/sample - loss: 0.7704\n"
          ],
          "name": "stdout"
        }
      ]
    },
    {
      "cell_type": "code",
      "metadata": {
        "id": "iQCCg-eo-I3R",
        "colab_type": "code",
        "colab": {
          "base_uri": "https://localhost:8080/",
          "height": 35
        },
        "outputId": "f35772fb-138f-41c7-fdc4-d6c7fffc9e1a"
      },
      "source": [
        "print(\"Test accuracy: {}\".format(test_accuracy))"
      ],
      "execution_count": 54,
      "outputs": [
        {
          "output_type": "stream",
          "text": [
            "Test accuracy: 0.46959999203681946\n"
          ],
          "name": "stdout"
        }
      ]
    },
    {
      "cell_type": "markdown",
      "metadata": {
        "id": "4qagsgkE-PD_",
        "colab_type": "text"
      },
      "source": [
        "# Model 2"
      ]
    },
    {
      "cell_type": "code",
      "metadata": {
        "id": "7aBnCXpP-M7F",
        "colab_type": "code",
        "colab": {}
      },
      "source": [
        "model2 = tf.keras.models.Sequential()\n",
        "model2.add(tf.keras.layers.Conv2D(filters=32, kernel_size=3, padding=\"same\", activation=\"relu\", input_shape=[32, 32, 3]))\n",
        "model2.add(tf.keras.layers.Conv2D(filters=32, kernel_size=3, padding=\"same\", activation=\"relu\"))\n",
        "model2.add(tf.keras.layers.MaxPool2D(pool_size=2, strides=2, padding='valid'))\n",
        "model2.add(tf.keras.layers.Conv2D(filters=64, kernel_size=3, padding=\"same\", activation=\"relu\"))\n",
        "model2.add(tf.keras.layers.Conv2D(filters=64, kernel_size=3, padding=\"same\", activation=\"relu\"))\n",
        "model2.add(tf.keras.layers.MaxPool2D(pool_size=2, strides=2, padding='valid'))\n",
        "\n",
        "model2.add(tf.keras.layers.Flatten())\n",
        "\n",
        "model2.add(tf.keras.layers.Dense(units=128, activation='relu'))\n",
        "model2.add(tf.keras.layers.Dense(units=10, activation='softmax'))\n"
      ],
      "execution_count": 0,
      "outputs": []
    },
    {
      "cell_type": "code",
      "metadata": {
        "id": "jP7onbA_-mkY",
        "colab_type": "code",
        "colab": {
          "base_uri": "https://localhost:8080/",
          "height": 490
        },
        "outputId": "a0e78e66-0c44-490d-afb7-2f8d4eea9c9b"
      },
      "source": [
        "model2.summary()"
      ],
      "execution_count": 15,
      "outputs": [
        {
          "output_type": "stream",
          "text": [
            "Model: \"sequential_2\"\n",
            "_________________________________________________________________\n",
            "Layer (type)                 Output Shape              Param #   \n",
            "=================================================================\n",
            "conv2d_5 (Conv2D)            (None, 32, 32, 32)        896       \n",
            "_________________________________________________________________\n",
            "conv2d_6 (Conv2D)            (None, 32, 32, 32)        9248      \n",
            "_________________________________________________________________\n",
            "max_pooling2d_2 (MaxPooling2 (None, 16, 16, 32)        0         \n",
            "_________________________________________________________________\n",
            "conv2d_7 (Conv2D)            (None, 16, 16, 64)        18496     \n",
            "_________________________________________________________________\n",
            "conv2d_8 (Conv2D)            (None, 16, 16, 64)        36928     \n",
            "_________________________________________________________________\n",
            "max_pooling2d_3 (MaxPooling2 (None, 8, 8, 64)          0         \n",
            "_________________________________________________________________\n",
            "flatten_1 (Flatten)          (None, 4096)              0         \n",
            "_________________________________________________________________\n",
            "dense_2 (Dense)              (None, 128)               524416    \n",
            "_________________________________________________________________\n",
            "dense_3 (Dense)              (None, 10)                1290      \n",
            "=================================================================\n",
            "Total params: 591,274\n",
            "Trainable params: 591,274\n",
            "Non-trainable params: 0\n",
            "_________________________________________________________________\n"
          ],
          "name": "stdout"
        }
      ]
    },
    {
      "cell_type": "code",
      "metadata": {
        "id": "LFqPSSRe-9X_",
        "colab_type": "code",
        "colab": {}
      },
      "source": [
        "model2.compile(loss=\"sparse_categorical_crossentropy\",\n",
        "              optimizer=\"Adam\", metrics=[\"sparse_categorical_accuracy\"])"
      ],
      "execution_count": 0,
      "outputs": []
    },
    {
      "cell_type": "markdown",
      "metadata": {
        "id": "8lePTCMdHEWR",
        "colab_type": "text"
      },
      "source": [
        ""
      ]
    },
    {
      "cell_type": "code",
      "metadata": {
        "id": "4CpoL-1J_BmX",
        "colab_type": "code",
        "colab": {
          "base_uri": "https://localhost:8080/",
          "height": 581
        },
        "outputId": "0ce5063c-5ec9-44ba-d43d-df873d87c390"
      },
      "source": [
        "model2.fit(X_train, y_train, epochs=15)"
      ],
      "execution_count": 18,
      "outputs": [
        {
          "output_type": "stream",
          "text": [
            "Epoch 1/15\n",
            "50000/50000 [==============================] - 19s 381us/sample - loss: 1.3574 - sparse_categorical_accuracy: 0.5097\n",
            "Epoch 2/15\n",
            "50000/50000 [==============================] - 18s 368us/sample - loss: 0.8953 - sparse_categorical_accuracy: 0.6852\n",
            "Epoch 3/15\n",
            "50000/50000 [==============================] - 18s 366us/sample - loss: 0.7284 - sparse_categorical_accuracy: 0.7450\n",
            "Epoch 4/15\n",
            "50000/50000 [==============================] - 18s 366us/sample - loss: 0.6159 - sparse_categorical_accuracy: 0.7834\n",
            "Epoch 5/15\n",
            "50000/50000 [==============================] - 18s 369us/sample - loss: 0.5127 - sparse_categorical_accuracy: 0.8212\n",
            "Epoch 6/15\n",
            "50000/50000 [==============================] - 18s 369us/sample - loss: 0.4234 - sparse_categorical_accuracy: 0.8499\n",
            "Epoch 7/15\n",
            "50000/50000 [==============================] - 18s 366us/sample - loss: 0.3435 - sparse_categorical_accuracy: 0.8794\n",
            "Epoch 8/15\n",
            "50000/50000 [==============================] - 18s 367us/sample - loss: 0.2731 - sparse_categorical_accuracy: 0.9026\n",
            "Epoch 9/15\n",
            "50000/50000 [==============================] - 18s 369us/sample - loss: 0.2224 - sparse_categorical_accuracy: 0.9216\n",
            "Epoch 10/15\n",
            "50000/50000 [==============================] - 18s 365us/sample - loss: 0.1876 - sparse_categorical_accuracy: 0.9324\n",
            "Epoch 11/15\n",
            "50000/50000 [==============================] - 18s 364us/sample - loss: 0.1556 - sparse_categorical_accuracy: 0.9451\n",
            "Epoch 12/15\n",
            "50000/50000 [==============================] - 18s 364us/sample - loss: 0.1439 - sparse_categorical_accuracy: 0.9491\n",
            "Epoch 13/15\n",
            "50000/50000 [==============================] - 18s 364us/sample - loss: 0.1308 - sparse_categorical_accuracy: 0.9545\n",
            "Epoch 14/15\n",
            "50000/50000 [==============================] - 18s 367us/sample - loss: 0.1147 - sparse_categorical_accuracy: 0.9601\n",
            "Epoch 15/15\n",
            "50000/50000 [==============================] - 18s 369us/sample - loss: 0.1121 - sparse_categorical_accuracy: 0.9615\n"
          ],
          "name": "stdout"
        },
        {
          "output_type": "execute_result",
          "data": {
            "text/plain": [
              "<tensorflow.python.keras.callbacks.History at 0x7f8f04ce43c8>"
            ]
          },
          "metadata": {
            "tags": []
          },
          "execution_count": 18
        }
      ]
    },
    {
      "cell_type": "code",
      "metadata": {
        "id": "P9NRs0G5_GKY",
        "colab_type": "code",
        "colab": {
          "base_uri": "https://localhost:8080/",
          "height": 35
        },
        "outputId": "f3a5b199-8885-4757-8382-a2ef72e9be3c"
      },
      "source": [
        "test_loss, test_accuracy = model2.evaluate(X_test, y_test)"
      ],
      "execution_count": 42,
      "outputs": [
        {
          "output_type": "stream",
          "text": [
            "10000/10000 [==============================] - 2s 165us/sample - loss: 1.5470 - sparse_categorical_accuracy: 0.7246\n"
          ],
          "name": "stdout"
        }
      ]
    },
    {
      "cell_type": "code",
      "metadata": {
        "id": "f8R8Fcu4AMTZ",
        "colab_type": "code",
        "colab": {
          "base_uri": "https://localhost:8080/",
          "height": 35
        },
        "outputId": "b0160733-ea01-4266-dcff-710ebeddec24"
      },
      "source": [
        "print(\"Test accuracy: {}\".format(test_accuracy))"
      ],
      "execution_count": 43,
      "outputs": [
        {
          "output_type": "stream",
          "text": [
            "Test accuracy: 0.7246000170707703\n"
          ],
          "name": "stdout"
        }
      ]
    },
    {
      "cell_type": "markdown",
      "metadata": {
        "id": "SLHTYfpgATNc",
        "colab_type": "text"
      },
      "source": [
        "# Model 3"
      ]
    },
    {
      "cell_type": "code",
      "metadata": {
        "id": "fS43HCe3ARZJ",
        "colab_type": "code",
        "colab": {
          "base_uri": "https://localhost:8080/",
          "height": 110
        },
        "outputId": "978d819c-1dbc-46e6-996b-b378cc5f9259"
      },
      "source": [
        "IMG_SHAPE = (32, 32, 3)\n",
        "# Pre-trained model with MobileNetV2\n",
        "base_model = tf.keras.applications.MobileNetV2(\n",
        "    input_shape=IMG_SHAPE,\n",
        "    include_top=False,\n",
        "    weights='imagenet'\n",
        ")\n",
        "# Freeze the pre-trained model weights\n",
        "base_model.trainable = False\n",
        "# Trainable classification head\n",
        "maxpool_layer = tf.keras.layers.GlobalMaxPooling2D()\n",
        "prediction_layer = tf.keras.layers.Dense(units=10, activation='softmax')\n",
        "# Layer classification head with feature detector\n",
        "model3 = tf.keras.Sequential([\n",
        "    base_model,\n",
        "    maxpool_layer,\n",
        "    prediction_layer\n",
        "])\n",
        "\n",
        "model3.compile(loss=\"sparse_categorical_crossentropy\",\n",
        "              optimizer=\"Adam\", metrics=[\"sparse_categorical_accuracy\"])"
      ],
      "execution_count": 21,
      "outputs": [
        {
          "output_type": "stream",
          "text": [
            "/usr/local/lib/python3.6/dist-packages/keras_applications/mobilenet_v2.py:294: UserWarning: `input_shape` is undefined or non-square, or `rows` is not in [96, 128, 160, 192, 224]. Weights for input shape (224, 224) will be loaded as the default.\n",
            "  warnings.warn('`input_shape` is undefined or non-square, '\n"
          ],
          "name": "stderr"
        },
        {
          "output_type": "stream",
          "text": [
            "Downloading data from https://github.com/JonathanCMitchell/mobilenet_v2_keras/releases/download/v1.1/mobilenet_v2_weights_tf_dim_ordering_tf_kernels_1.0_224_no_top.h5\n",
            "9412608/9406464 [==============================] - 0s 0us/step\n"
          ],
          "name": "stdout"
        }
      ]
    },
    {
      "cell_type": "code",
      "metadata": {
        "id": "lFrmlnkWDjn0",
        "colab_type": "code",
        "colab": {
          "base_uri": "https://localhost:8080/",
          "height": 399
        },
        "outputId": "af941e12-abe6-4eec-dc6b-9c82a5f11be2"
      },
      "source": [
        "model3.fit(X_train, y_train, epochs=10)"
      ],
      "execution_count": 22,
      "outputs": [
        {
          "output_type": "stream",
          "text": [
            "Epoch 1/10\n",
            "50000/50000 [==============================] - 31s 623us/sample - loss: 2.2256 - sparse_categorical_accuracy: 0.2851\n",
            "Epoch 2/10\n",
            "50000/50000 [==============================] - 28s 565us/sample - loss: 2.0421 - sparse_categorical_accuracy: 0.3326\n",
            "Epoch 3/10\n",
            "50000/50000 [==============================] - 28s 565us/sample - loss: 2.0336 - sparse_categorical_accuracy: 0.3327\n",
            "Epoch 4/10\n",
            "50000/50000 [==============================] - 28s 566us/sample - loss: 2.0230 - sparse_categorical_accuracy: 0.3363\n",
            "Epoch 5/10\n",
            "50000/50000 [==============================] - 28s 565us/sample - loss: 2.0291 - sparse_categorical_accuracy: 0.3365\n",
            "Epoch 6/10\n",
            "50000/50000 [==============================] - 28s 560us/sample - loss: 2.0280 - sparse_categorical_accuracy: 0.3357\n",
            "Epoch 7/10\n",
            "50000/50000 [==============================] - 28s 566us/sample - loss: 2.0300 - sparse_categorical_accuracy: 0.3329\n",
            "Epoch 8/10\n",
            "50000/50000 [==============================] - 28s 566us/sample - loss: 2.0277 - sparse_categorical_accuracy: 0.3378\n",
            "Epoch 9/10\n",
            "50000/50000 [==============================] - 28s 568us/sample - loss: 2.0151 - sparse_categorical_accuracy: 0.3363\n",
            "Epoch 10/10\n",
            "50000/50000 [==============================] - 28s 569us/sample - loss: 2.0288 - sparse_categorical_accuracy: 0.3335\n"
          ],
          "name": "stdout"
        },
        {
          "output_type": "execute_result",
          "data": {
            "text/plain": [
              "<tensorflow.python.keras.callbacks.History at 0x7f8e0ccb0f28>"
            ]
          },
          "metadata": {
            "tags": []
          },
          "execution_count": 22
        }
      ]
    },
    {
      "cell_type": "code",
      "metadata": {
        "id": "WCP9pwqgDwAf",
        "colab_type": "code",
        "colab": {
          "base_uri": "https://localhost:8080/",
          "height": 35
        },
        "outputId": "25345244-b1e4-4b66-d430-76ed02283b3d"
      },
      "source": [
        "test_loss, test_accuracy = model3.evaluate(X_test, y_test)"
      ],
      "execution_count": 44,
      "outputs": [
        {
          "output_type": "stream",
          "text": [
            "10000/10000 [==============================] - 4s 384us/sample - loss: 1.9838 - sparse_categorical_accuracy: 0.3488\n"
          ],
          "name": "stdout"
        }
      ]
    },
    {
      "cell_type": "code",
      "metadata": {
        "id": "fE5RektkFT8f",
        "colab_type": "code",
        "colab": {
          "base_uri": "https://localhost:8080/",
          "height": 35
        },
        "outputId": "44349c0f-3189-43c5-fe5c-06b141237340"
      },
      "source": [
        "print(\"Test accuracy: {}\".format(test_accuracy))"
      ],
      "execution_count": 45,
      "outputs": [
        {
          "output_type": "stream",
          "text": [
            "Test accuracy: 0.34880000352859497\n"
          ],
          "name": "stdout"
        }
      ]
    },
    {
      "cell_type": "markdown",
      "metadata": {
        "id": "sStnA1qvKOwJ",
        "colab_type": "text"
      },
      "source": [
        "# Model 3.2"
      ]
    },
    {
      "cell_type": "code",
      "metadata": {
        "id": "R3y500u_KS9O",
        "colab_type": "code",
        "colab": {
          "base_uri": "https://localhost:8080/",
          "height": 74
        },
        "outputId": "eaf54184-7064-41f2-8796-693efe782572"
      },
      "source": [
        "IMG_SHAPE = (32, 32, 3)\n",
        "# Pre-trained model with MobileNetV2\n",
        "base_model2 = tf.keras.applications.MobileNetV2(\n",
        "    input_shape=IMG_SHAPE,\n",
        "    include_top=False,\n",
        "    weights='imagenet'\n",
        ")\n",
        "# Freeze the pre-trained model weights\n",
        "base_model2.trainable = True\n",
        "\n",
        "for layer in base_model2.layers[:100]:\n",
        "  layer.trainable =  False\n",
        "  \n",
        "  \n",
        "  \n",
        "# Trainable classification head\n",
        "maxpool_layer = tf.keras.layers.GlobalMaxPooling2D()\n",
        "prediction_layer = tf.keras.layers.Dense(units=10, activation='softmax')\n",
        "# Layer classification head with feature detector\n",
        "model32 = tf.keras.Sequential([\n",
        "    base_model2,\n",
        "    maxpool_layer,\n",
        "    prediction_layer\n",
        "])\n",
        "num_epochs = 10\n",
        "fine_tune_epochs = 30\n",
        "total_epochs =  num_epochs + fine_tune_epochs\n",
        "\n",
        "model32.compile(loss=\"sparse_categorical_crossentropy\",\n",
        "              optimizer=\"Adam\", metrics=[\"sparse_categorical_accuracy\"])"
      ],
      "execution_count": 32,
      "outputs": [
        {
          "output_type": "stream",
          "text": [
            "/usr/local/lib/python3.6/dist-packages/keras_applications/mobilenet_v2.py:294: UserWarning: `input_shape` is undefined or non-square, or `rows` is not in [96, 128, 160, 192, 224]. Weights for input shape (224, 224) will be loaded as the default.\n",
            "  warnings.warn('`input_shape` is undefined or non-square, '\n"
          ],
          "name": "stderr"
        }
      ]
    },
    {
      "cell_type": "code",
      "metadata": {
        "id": "w2B-Kl-7KSwB",
        "colab_type": "code",
        "colab": {
          "base_uri": "https://localhost:8080/",
          "height": 1000
        },
        "outputId": "bbe71bbc-4403-412a-92b9-3f010cf82c52"
      },
      "source": [
        "model32.fit(X_train, y_train, epochs=total_epochs)"
      ],
      "execution_count": 33,
      "outputs": [
        {
          "output_type": "stream",
          "text": [
            "Epoch 1/40\n",
            "50000/50000 [==============================] - 60s 1ms/sample - loss: 1.6266 - sparse_categorical_accuracy: 0.4752\n",
            "Epoch 2/40\n",
            "50000/50000 [==============================] - 55s 1ms/sample - loss: 1.3657 - sparse_categorical_accuracy: 0.5586\n",
            "Epoch 3/40\n",
            "50000/50000 [==============================] - 57s 1ms/sample - loss: 1.2708 - sparse_categorical_accuracy: 0.5945\n",
            "Epoch 4/40\n",
            "50000/50000 [==============================] - 57s 1ms/sample - loss: 1.2294 - sparse_categorical_accuracy: 0.6071\n",
            "Epoch 5/40\n",
            "50000/50000 [==============================] - 58s 1ms/sample - loss: 1.1498 - sparse_categorical_accuracy: 0.6277\n",
            "Epoch 6/40\n",
            "50000/50000 [==============================] - 56s 1ms/sample - loss: 1.1687 - sparse_categorical_accuracy: 0.6236\n",
            "Epoch 7/40\n",
            "50000/50000 [==============================] - 56s 1ms/sample - loss: 1.1298 - sparse_categorical_accuracy: 0.6391\n",
            "Epoch 8/40\n",
            "50000/50000 [==============================] - 57s 1ms/sample - loss: 1.1043 - sparse_categorical_accuracy: 0.6438\n",
            "Epoch 9/40\n",
            "50000/50000 [==============================] - 57s 1ms/sample - loss: 1.0597 - sparse_categorical_accuracy: 0.6598\n",
            "Epoch 10/40\n",
            "50000/50000 [==============================] - 57s 1ms/sample - loss: 1.0457 - sparse_categorical_accuracy: 0.6666\n",
            "Epoch 11/40\n",
            "50000/50000 [==============================] - 56s 1ms/sample - loss: 1.0211 - sparse_categorical_accuracy: 0.6685\n",
            "Epoch 12/40\n",
            "50000/50000 [==============================] - 55s 1ms/sample - loss: 1.0052 - sparse_categorical_accuracy: 0.6757\n",
            "Epoch 13/40\n",
            "50000/50000 [==============================] - 56s 1ms/sample - loss: 0.9780 - sparse_categorical_accuracy: 0.6802\n",
            "Epoch 14/40\n",
            "50000/50000 [==============================] - 56s 1ms/sample - loss: 0.9700 - sparse_categorical_accuracy: 0.6872\n",
            "Epoch 15/40\n",
            "50000/50000 [==============================] - 56s 1ms/sample - loss: 0.9539 - sparse_categorical_accuracy: 0.6909\n",
            "Epoch 16/40\n",
            "50000/50000 [==============================] - 55s 1ms/sample - loss: 0.9367 - sparse_categorical_accuracy: 0.6957\n",
            "Epoch 17/40\n",
            "50000/50000 [==============================] - 55s 1ms/sample - loss: 0.9328 - sparse_categorical_accuracy: 0.6990\n",
            "Epoch 18/40\n",
            "50000/50000 [==============================] - 56s 1ms/sample - loss: 0.8957 - sparse_categorical_accuracy: 0.7061\n",
            "Epoch 19/40\n",
            "50000/50000 [==============================] - 55s 1ms/sample - loss: 0.9326 - sparse_categorical_accuracy: 0.7029\n",
            "Epoch 20/40\n",
            "50000/50000 [==============================] - 55s 1ms/sample - loss: 0.8829 - sparse_categorical_accuracy: 0.7128\n",
            "Epoch 21/40\n",
            "50000/50000 [==============================] - 55s 1ms/sample - loss: 0.8612 - sparse_categorical_accuracy: 0.7149\n",
            "Epoch 22/40\n",
            "50000/50000 [==============================] - 55s 1ms/sample - loss: 0.8624 - sparse_categorical_accuracy: 0.7166\n",
            "Epoch 23/40\n",
            "50000/50000 [==============================] - 55s 1ms/sample - loss: 0.8510 - sparse_categorical_accuracy: 0.7164\n",
            "Epoch 24/40\n",
            "50000/50000 [==============================] - 56s 1ms/sample - loss: 0.8284 - sparse_categorical_accuracy: 0.7252\n",
            "Epoch 25/40\n",
            "50000/50000 [==============================] - 56s 1ms/sample - loss: 0.8344 - sparse_categorical_accuracy: 0.7254\n",
            "Epoch 26/40\n",
            "50000/50000 [==============================] - 56s 1ms/sample - loss: 0.8090 - sparse_categorical_accuracy: 0.7328\n",
            "Epoch 27/40\n",
            "50000/50000 [==============================] - 56s 1ms/sample - loss: 0.8004 - sparse_categorical_accuracy: 0.7391\n",
            "Epoch 28/40\n",
            "50000/50000 [==============================] - 56s 1ms/sample - loss: 0.7855 - sparse_categorical_accuracy: 0.7385\n",
            "Epoch 29/40\n",
            "50000/50000 [==============================] - 56s 1ms/sample - loss: 0.8128 - sparse_categorical_accuracy: 0.7379\n",
            "Epoch 30/40\n",
            "50000/50000 [==============================] - 55s 1ms/sample - loss: 0.8669 - sparse_categorical_accuracy: 0.7276\n",
            "Epoch 31/40\n",
            "50000/50000 [==============================] - 56s 1ms/sample - loss: 0.8193 - sparse_categorical_accuracy: 0.7335\n",
            "Epoch 32/40\n",
            "50000/50000 [==============================] - 56s 1ms/sample - loss: 0.8342 - sparse_categorical_accuracy: 0.7301\n",
            "Epoch 33/40\n",
            "50000/50000 [==============================] - 56s 1ms/sample - loss: 0.8072 - sparse_categorical_accuracy: 0.7378\n",
            "Epoch 34/40\n",
            "50000/50000 [==============================] - 55s 1ms/sample - loss: 0.7815 - sparse_categorical_accuracy: 0.7416\n",
            "Epoch 35/40\n",
            "50000/50000 [==============================] - 55s 1ms/sample - loss: 0.7739 - sparse_categorical_accuracy: 0.7462\n",
            "Epoch 36/40\n",
            "50000/50000 [==============================] - 55s 1ms/sample - loss: 0.7656 - sparse_categorical_accuracy: 0.7505\n",
            "Epoch 37/40\n",
            "50000/50000 [==============================] - 55s 1ms/sample - loss: 0.7477 - sparse_categorical_accuracy: 0.7533\n",
            "Epoch 38/40\n",
            "50000/50000 [==============================] - 55s 1ms/sample - loss: 0.7119 - sparse_categorical_accuracy: 0.7608\n",
            "Epoch 39/40\n",
            "50000/50000 [==============================] - 55s 1ms/sample - loss: 0.7130 - sparse_categorical_accuracy: 0.7591\n",
            "Epoch 40/40\n",
            "50000/50000 [==============================] - 55s 1ms/sample - loss: 0.7156 - sparse_categorical_accuracy: 0.7610\n"
          ],
          "name": "stdout"
        },
        {
          "output_type": "execute_result",
          "data": {
            "text/plain": [
              "<tensorflow.python.keras.callbacks.History at 0x7f8c1c3a5da0>"
            ]
          },
          "metadata": {
            "tags": []
          },
          "execution_count": 33
        }
      ]
    },
    {
      "cell_type": "code",
      "metadata": {
        "id": "roqnHKZbKShi",
        "colab_type": "code",
        "colab": {
          "base_uri": "https://localhost:8080/",
          "height": 35
        },
        "outputId": "9de07206-05c2-48f4-83f3-51999a2911cf"
      },
      "source": [
        "test_loss, test_accuracy = model32.evaluate(X_test, y_test)"
      ],
      "execution_count": 46,
      "outputs": [
        {
          "output_type": "stream",
          "text": [
            "10000/10000 [==============================] - 4s 396us/sample - loss: 0.8604 - sparse_categorical_accuracy: 0.7071\n"
          ],
          "name": "stdout"
        }
      ]
    },
    {
      "cell_type": "code",
      "metadata": {
        "id": "sS56TNPNKSQJ",
        "colab_type": "code",
        "colab": {
          "base_uri": "https://localhost:8080/",
          "height": 35
        },
        "outputId": "46664221-4ef8-403f-b8ff-64d2234e609b"
      },
      "source": [
        "print(\"Test accuracy: {}\".format(test_accuracy))"
      ],
      "execution_count": 47,
      "outputs": [
        {
          "output_type": "stream",
          "text": [
            "Test accuracy: 0.707099974155426\n"
          ],
          "name": "stdout"
        }
      ]
    },
    {
      "cell_type": "markdown",
      "metadata": {
        "id": "VB09iExEFdsJ",
        "colab_type": "text"
      },
      "source": [
        "# Model 4"
      ]
    },
    {
      "cell_type": "code",
      "metadata": {
        "id": "NFVG3zvJFcFM",
        "colab_type": "code",
        "colab": {
          "base_uri": "https://localhost:8080/",
          "height": 110
        },
        "outputId": "77b417c2-0472-49e9-cd58-56ab5cd379c8"
      },
      "source": [
        "IMG_SHAPE = (32, 32, 3)\n",
        "res_net = tf.keras.applications.ResNet50(weights='imagenet', include_top=False, input_shape=IMG_SHAPE)"
      ],
      "execution_count": 25,
      "outputs": [
        {
          "output_type": "stream",
          "text": [
            "/usr/local/lib/python3.6/dist-packages/keras_applications/resnet50.py:265: UserWarning: The output shape of `ResNet50(include_top=False)` has been changed since Keras 2.2.0.\n",
            "  warnings.warn('The output shape of `ResNet50(include_top=False)` '\n"
          ],
          "name": "stderr"
        },
        {
          "output_type": "stream",
          "text": [
            "Downloading data from https://github.com/fchollet/deep-learning-models/releases/download/v0.2/resnet50_weights_tf_dim_ordering_tf_kernels_notop.h5\n",
            "94658560/94653016 [==============================] - 1s 0us/step\n"
          ],
          "name": "stdout"
        }
      ]
    },
    {
      "cell_type": "code",
      "metadata": {
        "id": "zGwKKe3kFnhx",
        "colab_type": "code",
        "colab": {}
      },
      "source": [
        "res_net.trainable = False"
      ],
      "execution_count": 0,
      "outputs": []
    },
    {
      "cell_type": "code",
      "metadata": {
        "id": "gWbrMoycFsS8",
        "colab_type": "code",
        "colab": {}
      },
      "source": [
        "from tensorflow.keras import layers\n",
        "global_average_layer = layers.GlobalAveragePooling2D()\n",
        "output_layer = layers.Dense(units=10, activation='softmax')\n",
        "tl_model = tf.keras.Sequential([\n",
        "  res_net,\n",
        "  global_average_layer,\n",
        "  output_layer\n",
        "])"
      ],
      "execution_count": 0,
      "outputs": []
    },
    {
      "cell_type": "code",
      "metadata": {
        "id": "ZGFZgjeqF2xy",
        "colab_type": "code",
        "colab": {
          "base_uri": "https://localhost:8080/",
          "height": 272
        },
        "outputId": "8ae8650e-1883-4de4-e5c0-3af1f2885cf0"
      },
      "source": [
        "tl_model.summary() "
      ],
      "execution_count": 29,
      "outputs": [
        {
          "output_type": "stream",
          "text": [
            "Model: \"sequential_4\"\n",
            "_________________________________________________________________\n",
            "Layer (type)                 Output Shape              Param #   \n",
            "=================================================================\n",
            "resnet50 (Model)             (None, 1, 1, 2048)        23587712  \n",
            "_________________________________________________________________\n",
            "global_average_pooling2d (Gl (None, 2048)              0         \n",
            "_________________________________________________________________\n",
            "dense_5 (Dense)              (None, 10)                20490     \n",
            "=================================================================\n",
            "Total params: 23,608,202\n",
            "Trainable params: 20,490\n",
            "Non-trainable params: 23,587,712\n",
            "_________________________________________________________________\n"
          ],
          "name": "stdout"
        }
      ]
    },
    {
      "cell_type": "code",
      "metadata": {
        "id": "0biUZJOkGLS-",
        "colab_type": "code",
        "colab": {}
      },
      "source": [
        "tl_model.compile(loss=\"sparse_categorical_crossentropy\",\n",
        "              optimizer=\"Adam\", metrics=[\"sparse_categorical_accuracy\"])"
      ],
      "execution_count": 0,
      "outputs": []
    },
    {
      "cell_type": "code",
      "metadata": {
        "id": "n8_Vk4JuGYXc",
        "colab_type": "code",
        "colab": {
          "base_uri": "https://localhost:8080/",
          "height": 399
        },
        "outputId": "e721784d-e677-418a-85a5-935207b4fa5a"
      },
      "source": [
        "tl_model.fit(X_train, y_train, epochs=10)"
      ],
      "execution_count": 31,
      "outputs": [
        {
          "output_type": "stream",
          "text": [
            "Epoch 1/10\n",
            "50000/50000 [==============================] - 55s 1ms/sample - loss: 1.8940 - sparse_categorical_accuracy: 0.4085\n",
            "Epoch 2/10\n",
            "50000/50000 [==============================] - 54s 1ms/sample - loss: 1.7111 - sparse_categorical_accuracy: 0.4568\n",
            "Epoch 3/10\n",
            "50000/50000 [==============================] - 53s 1ms/sample - loss: 1.6878 - sparse_categorical_accuracy: 0.4608\n",
            "Epoch 4/10\n",
            "50000/50000 [==============================] - 53s 1ms/sample - loss: 1.6797 - sparse_categorical_accuracy: 0.4656\n",
            "Epoch 5/10\n",
            "50000/50000 [==============================] - 53s 1ms/sample - loss: 1.6888 - sparse_categorical_accuracy: 0.4672\n",
            "Epoch 6/10\n",
            "50000/50000 [==============================] - 53s 1ms/sample - loss: 1.6740 - sparse_categorical_accuracy: 0.4695\n",
            "Epoch 7/10\n",
            "50000/50000 [==============================] - 53s 1ms/sample - loss: 1.6874 - sparse_categorical_accuracy: 0.4682\n",
            "Epoch 8/10\n",
            "50000/50000 [==============================] - 53s 1ms/sample - loss: 1.6871 - sparse_categorical_accuracy: 0.4654\n",
            "Epoch 9/10\n",
            "50000/50000 [==============================] - 53s 1ms/sample - loss: 1.6917 - sparse_categorical_accuracy: 0.4669\n",
            "Epoch 10/10\n",
            "50000/50000 [==============================] - 53s 1ms/sample - loss: 1.6900 - sparse_categorical_accuracy: 0.4632\n"
          ],
          "name": "stdout"
        },
        {
          "output_type": "execute_result",
          "data": {
            "text/plain": [
              "<tensorflow.python.keras.callbacks.History at 0x7f8d272daa20>"
            ]
          },
          "metadata": {
            "tags": []
          },
          "execution_count": 31
        }
      ]
    },
    {
      "cell_type": "code",
      "metadata": {
        "id": "ZCinQNdtGfZr",
        "colab_type": "code",
        "colab": {
          "base_uri": "https://localhost:8080/",
          "height": 35
        },
        "outputId": "42d771bd-c399-4051-9812-1ee84cfe6005"
      },
      "source": [
        "test_loss, test_accuracy = tl_model.evaluate(X_test, y_test)"
      ],
      "execution_count": 48,
      "outputs": [
        {
          "output_type": "stream",
          "text": [
            "10000/10000 [==============================] - 9s 914us/sample - loss: 1.8397 - sparse_categorical_accuracy: 0.4696\n"
          ],
          "name": "stdout"
        }
      ]
    },
    {
      "cell_type": "code",
      "metadata": {
        "id": "DgzTVbK_VQNg",
        "colab_type": "code",
        "colab": {
          "base_uri": "https://localhost:8080/",
          "height": 35
        },
        "outputId": "36831454-0e9c-45f2-862e-a2b031fb48a3"
      },
      "source": [
        "print(\"Test accuracy: {}\".format(test_accuracy))"
      ],
      "execution_count": 49,
      "outputs": [
        {
          "output_type": "stream",
          "text": [
            "Test accuracy: 0.46959999203681946\n"
          ],
          "name": "stdout"
        }
      ]
    },
    {
      "cell_type": "code",
      "metadata": {
        "id": "EMnzaeqwVWn8",
        "colab_type": "code",
        "colab": {}
      },
      "source": [
        ""
      ],
      "execution_count": 0,
      "outputs": []
    }
  ]
}